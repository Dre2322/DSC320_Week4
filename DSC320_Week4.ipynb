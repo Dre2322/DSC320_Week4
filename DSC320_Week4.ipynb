{
 "cells": [
  {
   "cell_type": "code",
   "execution_count": 1,
   "id": "1933caf1",
   "metadata": {},
   "outputs": [
    {
     "name": "stdout",
     "output_type": "stream",
     "text": [
      "limit of 2*x**3 - 4*x + 1 as x approaches 3 is 43\n"
     ]
    }
   ],
   "source": [
    "# calculating limits\n",
    "# a\n",
    "\n",
    "# import libraries\n",
    "from sympy import Symbol, limit, oo\n",
    "\n",
    "# calculates limit of f(x) as x approaches 3\n",
    "x = Symbol('x')\n",
    "y = 2*x**3 - 4*x + 1\n",
    "result = limit(y, x, 3)\n",
    "print(f'limit of 2*x**3 - 4*x + 1 as x approaches 3 is {result}')"
   ]
  },
  {
   "cell_type": "code",
   "execution_count": 2,
   "id": "0f4228d2",
   "metadata": {},
   "outputs": [
    {
     "name": "stdout",
     "output_type": "stream",
     "text": [
      "limit of (exp(x) - 1) / x as x approaches 0 is 1\n"
     ]
    }
   ],
   "source": [
    "# b\n",
    "\n",
    "# import libraries\n",
    "from sympy import exp, limit, Symbol\n",
    "\n",
    "# calculates limit of g(x) as x approaches 0\n",
    "x = Symbol('x')\n",
    "y = (exp(x) - 1) / x\n",
    "result = limit(y, x, 0)\n",
    "print(f'limit of (exp(x) - 1) / x as x approaches 0 is {result}')"
   ]
  },
  {
   "cell_type": "code",
   "execution_count": null,
   "id": "62e67cbb",
   "metadata": {},
   "outputs": [],
   "source": [
    "# c\n",
    "# The f(x) function could be calculated by plugging in the value where the limit is taken into the function. G(x), for the most \n",
    "# part, could be calculated by plugging in the value where the limit is taken except for 0 because, at x=0, the limit does not \n",
    "# exist. To calculate the limit, you must use the exponential limit rule in calculus by expanding the natural exponential \n",
    "# function, transforming expansion into the required form, and finding the limit by the direct substitution. \n",
    "# Regarding continuity, f(x) has continuity, but g(x) has no continuity because the function has a break at x=0. "
   ]
  },
  {
   "cell_type": "code",
   "execution_count": 3,
   "id": "82f64eae",
   "metadata": {},
   "outputs": [
    {
     "name": "stdout",
     "output_type": "stream",
     "text": [
      "15.0\n"
     ]
    }
   ],
   "source": [
    "# average rate of change\n",
    "\n",
    "# define functions for f(x) and average rate of change\n",
    "def f(x):\n",
    "  return 3 * x**2 \n",
    "def adder(a):\n",
    "  def inner(b):\n",
    "    return (f(b) - f(a)) / (b - a)\n",
    "  return inner\n",
    "\n",
    "# define the two values a and b\n",
    "add = adder(2)\n",
    "print(add(3))\n",
    "\n"
   ]
  },
  {
   "cell_type": "code",
   "execution_count": 4,
   "id": "1bd392a9",
   "metadata": {},
   "outputs": [
    {
     "name": "stdout",
     "output_type": "stream",
     "text": [
      "53.89999999999999\n"
     ]
    }
   ],
   "source": [
    "# average rate of change to instantaneous rate of change\n",
    "# a\n",
    "\n",
    "# define functions for f(x) and average rate of change\n",
    "def f(x):\n",
    "  return 4.9 * x**2 \n",
    "def adder(a):\n",
    "  def inner(b):\n",
    "    return (f(b) - f(a)) / (b - a)\n",
    "  return inner\n",
    "\n",
    "# define the two values a and b\n",
    "add = adder(5)\n",
    "print(add(6))\n"
   ]
  },
  {
   "cell_type": "code",
   "execution_count": 5,
   "id": "729175f2",
   "metadata": {},
   "outputs": [
    {
     "name": "stdout",
     "output_type": "stream",
     "text": [
      "51.45000000000002\n"
     ]
    }
   ],
   "source": [
    "# b\n",
    "\n",
    "# define functions for f(x) and average rate of change\n",
    "def f(x):\n",
    "  return 4.9 * x**2 \n",
    "def adder(a):\n",
    "  def inner(b):\n",
    "    return (f(b) - f(a)) / (b - a)\n",
    "  return inner\n",
    "\n",
    "# define the two values a and b\n",
    "add = adder(5)\n",
    "print(add(5.5))\n"
   ]
  },
  {
   "cell_type": "code",
   "execution_count": 6,
   "id": "f9fad453",
   "metadata": {},
   "outputs": [
    {
     "name": "stdout",
     "output_type": "stream",
     "text": [
      "49.490000000000016\n"
     ]
    }
   ],
   "source": [
    "# c\n",
    "\n",
    "# define functions for f(x) and average rate of change\n",
    "def f(x):\n",
    "  return 4.9 * x**2 \n",
    "def adder(a):\n",
    "  def inner(b):\n",
    "    return (f(b) - f(a)) / (b - a)\n",
    "  return inner\n",
    "\n",
    "# define the two values a and b\n",
    "add = adder(5)\n",
    "print(add(5.1))"
   ]
  },
  {
   "cell_type": "code",
   "execution_count": 4,
   "id": "eab14859",
   "metadata": {},
   "outputs": [],
   "source": [
    "# d\n",
    "# After a few calculations and as the time gets closer to 5 seconds the closer the speed gets to 49"
   ]
  },
  {
   "cell_type": "code",
   "execution_count": null,
   "id": "62843bb7",
   "metadata": {},
   "outputs": [],
   "source": [
    "# e\n",
    "# the derivative of 4.9t^2 is 9.8t"
   ]
  },
  {
   "cell_type": "code",
   "execution_count": null,
   "id": "95b2d00b",
   "metadata": {},
   "outputs": [],
   "source": [
    "# f\n",
    "# f'(5)=9.8(5)= 49\n",
    "# The solution of part f is the same as part d. In the average rate of change, if you plug in 5 as both functions, you will\n",
    "# end up with a denominator of 0, which is undefined. But if you play with the numbers and get as close to 5 as possible, you\n",
    "# will see that the closer to 5 in part d, the closer you will get to 49. "
   ]
  },
  {
   "cell_type": "code",
   "execution_count": 7,
   "id": "a099394a",
   "metadata": {},
   "outputs": [
    {
     "name": "stdout",
     "output_type": "stream",
     "text": [
      "26200\n"
     ]
    }
   ],
   "source": [
    "# partial derivatives\n",
    "# a\n",
    "\n",
    "# define linear model that predicts the selling price\n",
    "def condition(c):\n",
    "  def year(y):\n",
    "    return 16000 + 2400 * c - 1800 * y\n",
    "  return year\n",
    "\n",
    "# define the two values a and b\n",
    "vehicle = condition(8)\n",
    "print(vehicle(5))"
   ]
  },
  {
   "cell_type": "code",
   "execution_count": 5,
   "id": "9f062ec3",
   "metadata": {},
   "outputs": [
    {
     "name": "stdout",
     "output_type": "stream",
     "text": [
      "Partial Derivative of P/C is 2400\n",
      "\n",
      "Partial Derivative of P/Y is -1800\n"
     ]
    }
   ],
   "source": [
    "# b and c\n",
    "\n",
    "from sympy import diff, symbols\n",
    "\n",
    "# defining c and y as symbols\n",
    "c, y = symbols('c y')  \n",
    "\n",
    "def f(c, y):\n",
    "  return 16000 + 2400 * c - 1800 * y\n",
    "\n",
    "# taking the derivative of f with respect to c\n",
    "df_dc = diff(f(c, y), c)  \n",
    "# taking the derivative of f with respect to y\n",
    "df_dy = diff(f(c, y), y)  \n",
    "\n",
    "# printing the partial derivative of f with respect to c\n",
    "print(f'Partial Derivative of P/C is {df_dc}' )  \n",
    "print()\n",
    "# printing the partial derivative of f with respect to y\n",
    "print(f'Partial Derivative of P/Y is {df_dy}') \n"
   ]
  }
 ],
 "metadata": {
  "kernelspec": {
   "display_name": "Python 3 (ipykernel)",
   "language": "python",
   "name": "python3"
  },
  "language_info": {
   "codemirror_mode": {
    "name": "ipython",
    "version": 3
   },
   "file_extension": ".py",
   "mimetype": "text/x-python",
   "name": "python",
   "nbconvert_exporter": "python",
   "pygments_lexer": "ipython3",
   "version": "3.11.5"
  }
 },
 "nbformat": 4,
 "nbformat_minor": 5
}
